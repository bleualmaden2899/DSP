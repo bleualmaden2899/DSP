{
  "nbformat": 4,
  "nbformat_minor": 0,
  "metadata": {
    "colab": {
      "provenance": []
    },
    "kernelspec": {
      "name": "python3",
      "display_name": "Python 3"
    },
    "language_info": {
      "name": "python"
    }
  },
  "cells": [
    {
      "cell_type": "markdown",
      "source": [
        "# **DIGITAL SIGNAL PROCESSING**\n",
        "***EDWARD ALMADEN***"
      ],
      "metadata": {
        "id": "W9iIHve-q1Of"
      }
    },
    {
      "cell_type": "markdown",
      "source": [
        "# PART 1\n",
        "1. [150 pts] Solve for the magnitude and angle of the linear transformations given. Provide necessary\n",
        "solutions numerically (hand-solved) and computationally (using a Python program). Also provide the\n",
        "necessary solutions vector plots of the given matrices and their transformations (nos. 1-5.)\n",
        "\n",
        "\n",
        "\\begin{align}\n",
        " H = \\frac{1}{\\sqrt{2}}\\begin{pmatrix} 1&1\\\\1&-1 \\end{pmatrix}\n",
        " ,Y = \\begin{pmatrix} 0&-i\\\\i&-0 \\end{pmatrix}\n",
        " ,O = \\begin{pmatrix} 1&0\\\\1&1 \\end{pmatrix}\n",
        "\\end{align}\n",
        "\n",
        "\n",
        "1. 𝐻 ⋅ 𝑌\n",
        "2. 𝑌 ⋅ 𝐻\n",
        "3. 𝐻 ⋅ 𝐻\n",
        "4. 𝑌 ⋅ 𝐻 ⋅ 𝑂\n",
        "5. 𝐻 ⋅ 𝑌 ⋅ 𝐻 ⋅ 𝑂"
      ],
      "metadata": {
        "id": "ZdmNTEQC42rr"
      }
    },
    {
      "cell_type": "code",
      "source": [
        "import numpy as np\n",
        "import matplotlib.pyplot as plt"
      ],
      "metadata": {
        "id": "B_Ej6P76uf_a"
      },
      "execution_count": 2,
      "outputs": []
    },
    {
      "cell_type": "code",
      "source": [
        "H = (1 / np.sqrt(2)) * np.array([\n",
        "    [1,1],\n",
        "    [1,-1]\n",
        "])\n",
        "\n",
        "i = 1\n",
        "# i = [i(0,0), i(0,1), i(1,0), i(1,1)]\n",
        "\n",
        "Y = np.array([\n",
        "    [0,-i],\n",
        "    [i,-0]\n",
        "])\n",
        "\n",
        "O = np.array([\n",
        "    [1,0],\n",
        "    [1,1]\n",
        "])"
      ],
      "metadata": {
        "id": "Mn-5xGr-sV3x"
      },
      "execution_count": 5,
      "outputs": []
    },
    {
      "cell_type": "code",
      "source": [
        "#1 H.Y\n",
        "HY = np.dot(H,Y)\n",
        "print(HY)\n",
        "\n",
        "#getting the angle\n",
        "rad = np.arctan2(HY[1, 0], HY[0, 0])\n",
        "deg = np.degrees(rad)\n",
        "print(\"Angle:\\n\", deg)\n",
        "\n",
        "#Magnitude\n",
        "mag = np.linalg.norm(HY)\n",
        "print(\"Magnitude:\\n\" , mag)\n",
        "\n",
        "def plot_quiv(x,t_mat=np.eye(2)):\n",
        "    x_prime = x @ t_mat\n",
        "    size= (2,2)\n",
        "    plt.figure(figsize=(4,4))\n",
        "\n",
        "    plt.xlim(-size[0],size[0])\n",
        "    plt.ylim(-size[1],size[1])\n",
        "    plt.xticks(np.arange((-size[0]), size[0]+1, 1.0))\n",
        "    plt.yticks(np.arange((-size[1]), size[1]+1, 1.0))\n",
        "\n",
        "\n",
        "    plt.quiver([0,0],[0,0], x_prime[0,:], x_prime[1,:],\n",
        "               angles='xy', scale_units='xy',scale=1,\n",
        "               color=['red','blue'])## use column spaces\n",
        "    plt.grid()\n",
        "    plt.show()\n",
        "\n",
        "\n",
        "#vector plot of transformation\n",
        "plot_quiv(HY)"
      ],
      "metadata": {
        "colab": {
          "base_uri": "https://localhost:8080/",
          "height": 478
        },
        "id": "iCt_Fk1Fvb01",
        "outputId": "fae85168-f7ed-4f1d-bdeb-7c0b0ce96207"
      },
      "execution_count": 58,
      "outputs": [
        {
          "output_type": "stream",
          "name": "stdout",
          "text": [
            "[[ 0.70710678 -0.70710678]\n",
            " [-0.70710678 -0.70710678]]\n",
            "Angle:\n",
            " -45.0\n",
            "Magnitude:\n",
            " 1.414213562373095\n"
          ]
        },
        {
          "output_type": "display_data",
          "data": {
            "text/plain": [
              "<Figure size 400x400 with 1 Axes>"
            ],
            "image/png": "[encoded data removed]"
          },
          "metadata": {}
        }
      ]
    },
    {
      "cell_type": "code",
      "source": [
        "#2 Y.H\n",
        "YH = np.dot(Y,H)\n",
        "print(YH)\n",
        "\n",
        "#angle\n",
        "rad = np.arctan2(YH[1, 0], YH[0, 0])\n",
        "deg = np.degrees(rad)\n",
        "print(\"Angle:\\n\", deg)\n",
        "\n",
        "#Magnitude\n",
        "mag = np.linalg.norm(YH)\n",
        "print(\"Magnitude:\\n\" , mag)\n",
        "\n",
        "#vector plot of transformation\n",
        "plot_quiv(YH)"
      ],
      "metadata": {
        "colab": {
          "base_uri": "https://localhost:8080/",
          "height": 478
        },
        "id": "Y2a7WRVsvoMv",
        "outputId": "d1e84be0-2537-4a78-bfb9-aa8af41d8440"
      },
      "execution_count": 53,
      "outputs": [
        {
          "output_type": "stream",
          "name": "stdout",
          "text": [
            "[[-0.70710678  0.70710678]\n",
            " [ 0.70710678  0.70710678]]\n",
            "Angle:\n",
            " 135.0\n",
            "Magnitude:\n",
            " 1.414213562373095\n"
          ]
        },
        {
          "output_type": "display_data",
          "data": {
            "text/plain": [
              "<Figure size 400x400 with 1 Axes>"
            ],
            "image/png": "[encoded data removed]"
          },
          "metadata": {}
        }
      ]
    },
    {
      "cell_type": "code",
      "source": [
        "#3 H.H\n",
        "HH = np.dot(H,H)\n",
        "print(HH)\n",
        "#getting the angle\n",
        "rad = np.arctan2(HH[1, 0], HH[0, 0])\n",
        "deg = np.degrees(rad)\n",
        "print(\"Angle:\\n\", deg)\n",
        "\n",
        "#Magnitude\n",
        "mag = np.linalg.norm(HH)\n",
        "print(\"Magnitude:\\n\" , mag)\n",
        "#vector plot of transformation\n",
        "plot_quiv(HH)"
      ],
      "metadata": {
        "colab": {
          "base_uri": "https://localhost:8080/",
          "height": 478
        },
        "id": "9j55-nIUvuhe",
        "outputId": "b5768424-c896-4550-d8f3-0f322a7161dd"
      },
      "execution_count": 55,
      "outputs": [
        {
          "output_type": "stream",
          "name": "stdout",
          "text": [
            "[[ 1.00000000e+00 -2.23711432e-17]\n",
            " [-2.23711432e-17  1.00000000e+00]]\n",
            "Angle:\n",
            " -1.2817720865673127e-15\n",
            "Magnitude:\n",
            " 1.4142135623730947\n"
          ]
        },
        {
          "output_type": "display_data",
          "data": {
            "text/plain": [
              "<Figure size 400x400 with 1 Axes>"
            ],
            "image/png": "[encoded data removed]"
          },
          "metadata": {}
        }
      ]
    },
    {
      "cell_type": "code",
      "source": [
        "#4 Y.H.O\n",
        "HO = np.dot(H,O)\n",
        "\n",
        "\n",
        "HOY = np.dot(HO,Y)\n",
        "\n",
        "print(HOY)\n",
        "\n",
        "#getting the angle\n",
        "rad = np.arctan2(HOY[1, 0], HOY[0, 0])\n",
        "deg = np.degrees(rad)\n",
        "print(\"Angle:\\n\", deg)\n",
        "\n",
        "#Magnitude\n",
        "mag = np.linalg.norm(HOY)\n",
        "print(\"Magnitude:\\n\" , mag)\n",
        "\n",
        "\n",
        "#vector plot of transformation\n",
        "plot_quiv(HOY)\n"
      ],
      "metadata": {
        "colab": {
          "base_uri": "https://localhost:8080/",
          "height": 478
        },
        "id": "aUz3WknTvyge",
        "outputId": "9f2d5899-9941-4e17-c7ae-645a06ba4bf7"
      },
      "execution_count": 60,
      "outputs": [
        {
          "output_type": "stream",
          "name": "stdout",
          "text": [
            "[[ 0.70710678 -1.41421356]\n",
            " [-0.70710678  0.        ]]\n",
            "Angle:\n",
            " -45.0\n",
            "Magnitude:\n",
            " 1.7320508075688772\n"
          ]
        },
        {
          "output_type": "display_data",
          "data": {
            "text/plain": [
              "<Figure size 400x400 with 1 Axes>"
            ],
            "image/png": "[encoded data removed]"
          },
          "metadata": {}
        }
      ]
    },
    {
      "cell_type": "code",
      "source": [
        "#5 H.Y.H.O\n",
        "HY = np.dot(H,Y)\n",
        "HO = np.dot(H,O)\n",
        "\n",
        "HYHO = np.dot(HY,HO)\n",
        "print(HYHO)\n",
        "\n",
        "#getting the angle\n",
        "rad = np.arctan2(HYHO[1, 0], HYHO[0, 0])\n",
        "deg = np.degrees(rad)\n",
        "print(\"Angle:\", deg)\n",
        "\n",
        "#Magnitude\n",
        "mag = np.linalg.norm(HY)\n",
        "print(\"Magnitude:\" , mag)\n",
        "\n",
        "\n",
        "#vector plot of transformation\n",
        "plot_quiv(HYHO)"
      ],
      "metadata": {
        "colab": {
          "base_uri": "https://localhost:8080/",
          "height": 443
        },
        "id": "mHX2v7oCv2D2",
        "outputId": "714638d2-8628-4b77-8849-1a0bfd17adf3"
      },
      "execution_count": 57,
      "outputs": [
        {
          "output_type": "stream",
          "name": "stdout",
          "text": [
            "[[ 1.00000000e+00  1.00000000e+00]\n",
            " [-1.00000000e+00  2.23711432e-17]]\n",
            "Angle: -45.0\n",
            "Magnitude: 1.414213562373095\n"
          ]
        },
        {
          "output_type": "display_data",
          "data": {
            "text/plain": [
              "<Figure size 400x400 with 1 Axes>"
            ],
            "image/png": "[encoded data removed]"
          },
          "metadata": {}
        }
      ]
    },
    {
      "cell_type": "markdown",
      "source": [
        "# PART 2\n",
        "[50 pts] Solve for the determinants of 𝐻 and 𝑌. Provide necessary solutions numerically (hand-solved) and computationally (using a Python program)\n",
        "\n"
      ],
      "metadata": {
        "id": "q1dPqGz55N7V"
      }
    },
    {
      "cell_type": "code",
      "source": [
        "#DETERMINANT OF H\n",
        "np.linalg.det(H)\n",
        "\n"
      ],
      "metadata": {
        "id": "DRg-H8-Vv9G-",
        "colab": {
          "base_uri": "https://localhost:8080/"
        },
        "outputId": "b5249485-c577-4189-82a6-e8d13914a923"
      },
      "execution_count": null,
      "outputs": [
        {
          "output_type": "execute_result",
          "data": {
            "text/plain": [
              "-0.9999999999999999"
            ]
          },
          "metadata": {},
          "execution_count": 3
        }
      ]
    },
    {
      "cell_type": "code",
      "source": [
        "#DETERMINANT OF Y\n",
        "#1 DETERMINE H\n",
        "np.linalg.det(Y)"
      ],
      "metadata": {
        "colab": {
          "base_uri": "https://localhost:8080/"
        },
        "id": "G0MY6kZY5ZaP",
        "outputId": "f6747e5a-61e4-4b9c-a247-599118c95941"
      },
      "execution_count": null,
      "outputs": [
        {
          "output_type": "execute_result",
          "data": {
            "text/plain": [
              "1.0"
            ]
          },
          "metadata": {},
          "execution_count": 4
        }
      ]
    },
    {
      "cell_type": "markdown",
      "source": [
        "# PART 3\n",
        "[50 pts] Determine whether the resulting linear transformations are linearly dependent. Provide\n",
        "necessary solutions both numerically using determinants (hand-solved) and computationally (using a\n",
        "Python program).\n",
        "\n",
        "\\begin{align} 1.\n",
        " \\begin{pmatrix} 5&0&0\\\\0&5&0\\\\0&0&5 \\end{pmatrix}    \\begin{pmatrix} 1&0&5\\\\2&7&6\\\\6&4&7 \\end{pmatrix} \\hspace{4cm}\n",
        "2. \\begin{pmatrix} 1&2&6\\\\3&15&4\\\\2&10&3 \\end {pmatrix}   \\begin{pmatrix} 5&2&4\\\\6&2&4\\\\0&1&1 \\end{pmatrix}\n",
        "  \\end{align}\n",
        "\n"
      ],
      "metadata": {
        "id": "tRGEasiH5qHe"
      }
    },
    {
      "cell_type": "code",
      "source": [
        "#1\n",
        "A = np.array([\n",
        "    [5, 0, 0],\n",
        "    [0, 5, 0],\n",
        "    [0, 0, 5]\n",
        "    ])\n",
        "\n",
        "\n",
        "B = np.array([\n",
        "    [1, 0, 5],\n",
        "    [2, 7, 6],\n",
        "    [6, 4, 7]\n",
        "             ])\n",
        "\n",
        "Ad = np.linalg.det(A)\n",
        "Bd = np.linalg.det(B)\n",
        "\n",
        "print(\"The Determinant of 1st matrix.\" , Ad)\n",
        "print(\"The Determinant of 2nd matrix.\" , Bd)\n",
        "\n",
        "det_AB = np.linalg.det(np.dot(A, B))\n",
        "print(\"the determinant of the product of the given matrices\" , det_AB)\n",
        "\n",
        "#CONDITION WHETHER THE RESULTING LINEAR TRANSFORMATIONS ARE LINEARLY DEPENDENT\n",
        "if det_AB == 0:\n",
        "    print(\"The resulting linear transformations are linearly dependent.\")\n",
        "else:\n",
        "    print(\"The resulting linear transformations are linearly independent.\")"
      ],
      "metadata": {
        "colab": {
          "base_uri": "https://localhost:8080/",
          "height": 0
        },
        "id": "H5HWBeOBSkn5",
        "outputId": "d8f5c5c3-b7bf-4320-97af-fb29df906352"
      },
      "execution_count": 50,
      "outputs": [
        {
          "output_type": "stream",
          "name": "stdout",
          "text": [
            "The Determinant of 1st matrix. 124.99999999999994\n",
            "The Determinant of 2nd matrix. -144.99999999999997\n",
            "the determinant of the product of the given matrices -18124.99999999999\n",
            "The resulting linear transformations are linearly independent.\n"
          ]
        }
      ]
    },
    {
      "cell_type": "code",
      "source": [
        "#2\n",
        "Aa = np.array([\n",
        "    [1, 2, 6],\n",
        "    [3, 15, 4],\n",
        "    [2, 10, 3]\n",
        "    ])\n",
        "\n",
        "\n",
        "Bb = np.array([\n",
        "    [5, 2, 4],\n",
        "    [6, 2, 4],\n",
        "    [0, 1, 1]\n",
        "             ])\n",
        "\n",
        "Cd = np.linalg.det(Aa)\n",
        "Dd = np.linalg.det(Bb)\n",
        "\n",
        "print(\"The Determinant of 1st matrix.\" , Cd)\n",
        "print(\"The Determinant of 2nd matrix.\" , Dd)\n",
        "\n",
        "det_AaBb = np.linalg.det(np.dot(Aa, Bb))\n",
        "print(\"the determinant of the product of the given matrices\" , det_AaBb)\n",
        "\n",
        "#CONDITION WHETHER THE RESULTING LINEAR TRANSFORMATIONS ARE LINEARLY DEPENDENT\n",
        "if det_AaBb == 0:\n",
        "    print(\"The resulting linear transformations are linearly dependent.\")\n",
        "else:\n",
        "    print(\"The resulting linear transformations are linearly independent.\")"
      ],
      "metadata": {
        "colab": {
          "base_uri": "https://localhost:8080/",
          "height": 0
        },
        "id": "Yb34fFqZlHv3",
        "outputId": "ade7a711-96b4-45b1-9e20-7d602150d4ca"
      },
      "execution_count": 72,
      "outputs": [
        {
          "output_type": "stream",
          "name": "stdout",
          "text": [
            "The Determinant of 1st matrix. 3.0000000000000018\n",
            "The Determinant of 2nd matrix. 2.0000000000000004\n",
            "the determinant of the product of the given matrices 6.000000000001367\n",
            "The resulting linear transformations are linearly independent.\n"
          ]
        }
      ]
    },
    {
      "cell_type": "markdown",
      "source": [
        "# PART 4\n",
        "[50 pts] Plot the signal corresponding to the following vectors whereas 𝑇 is the time vector and 𝐺\n",
        "is the vector corresponding to the amplitudes of the signal.\n",
        "\n",
        "\\begin{align}\n",
        " \\large T = \\begin{pmatrix}0 & \\frac{π}{4} & \\frac{π}{2} & \\frac{3π}{4} \\end{pmatrix};\n",
        " G =  \\begin{pmatrix} 5 & 3 & 0 & -3 & 5 \\end{pmatrix}\n",
        "\\end{align}"
      ],
      "metadata": {
        "id": "R72G9F1r8TXQ"
      }
    },
    {
      "cell_type": "code",
      "source": [
        "T = np.array([\n",
        "    [0, np.pi/4, np.pi/2, 3*np.pi/4, np.pi]\n",
        "    ])\n",
        "G = np.array([\n",
        "    [5, 3, 0, -3, 5]\n",
        "    ])\n",
        "\n",
        "signal = G * np.sin(T)\n",
        "plt.plot(T, signal, marker='.')\n",
        "plt.grid(True)\n",
        "plt.show()\n",
        ""
      ],
      "metadata": {
        "id": "0e7HeHHC8Uhk",
        "colab": {
          "base_uri": "https://localhost:8080/",
          "height": 430
        },
        "outputId": "0adeacf7-6405-48c8-92c3-0b0414e54fe1"
      },
      "execution_count": 71,
      "outputs": [
        {
          "output_type": "display_data",
          "data": {
            "text/plain": [
              "<Figure size 640x480 with 1 Axes>"
            ],
            "image/png": "[encoded data removed]"
          },
          "metadata": {}
        }
      ]
    }
  ]
}